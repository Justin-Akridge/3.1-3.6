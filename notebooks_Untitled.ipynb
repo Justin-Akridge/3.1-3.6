{
  "metadata": {
    "language_info": {
      "codemirror_mode": {
        "name": "python",
        "version": 3
      },
      "file_extension": ".py",
      "mimetype": "text/x-python",
      "name": "python",
      "nbconvert_exporter": "python",
      "pygments_lexer": "ipython3",
      "version": "3.8"
    },
    "kernelspec": {
      "name": "python",
      "display_name": "Python (Pyodide)",
      "language": "python"
    }
  },
  "nbformat_minor": 4,
  "nbformat": 4,
  "cells": [
    {
      "cell_type": "code",
      "source": "#seconds per hour\nseconds_per_hour = 60 * 60\nprint(seconds_per_hour)\n\n#seconds per day\nseconds_per_day = seconds_per_hour * 24\nprint(seconds_per_day)\n\n#floating point division\nfloat(seconds_per_day) / seconds_per_hour\n\n#integer division\nseconds_per_day // seconds_per_hour\n\n#3.6 the same value is a result other then .0 be dropped from integer division",
      "metadata": {
        "trusted": true
      },
      "execution_count": 12,
      "outputs": [
        {
          "name": "stdout",
          "text": "3600\n86400\n",
          "output_type": "stream"
        },
        {
          "execution_count": 12,
          "output_type": "execute_result",
          "data": {
            "text/plain": "24"
          },
          "metadata": {}
        }
      ]
    }
  ]
}