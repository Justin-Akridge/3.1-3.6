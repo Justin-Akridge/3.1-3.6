{
 "cells": [
  {
   "cell_type": "code",
   "execution_count": 8,
   "id": "d5e5854a",
   "metadata": {},
   "outputs": [
    {
     "name": "stdout",
     "output_type": "stream",
     "text": [
      "too low\n"
     ]
    }
   ],
   "source": [
    "# Exercise 4.1\n",
    "secret = 6\n",
    "guess = 3\n",
    "\n",
    "if guess < secret:\n",
    "    print(\"too low\")\n",
    "elif guess > secret:\n",
    "    print(\"too high\")\n",
    "else:\n",
    "    print(\"just right\")"
   ]
  },
  {
   "cell_type": "code",
   "execution_count": 46,
   "id": "686bf539",
   "metadata": {},
   "outputs": [
    {
     "name": "stdout",
     "output_type": "stream",
     "text": [
      "dict_values([['red', 'med'], ['green', 'small'], ['green', 'big'], ['orange', 'big']])\n",
      "False\n",
      "pea matches both small and green\n",
      "False\n",
      "False\n"
     ]
    }
   ],
   "source": [
    "# Exercise 4.2\n",
    "small = green = True\n",
    "choices = {\"cherry\":[\"red\", \"med\"], \n",
    "           \"pea\": [\"green\",\"small\"], \n",
    "           \"watermelon\": [\"green\", \"big\"], \n",
    "           \"pumpkin\":[\"orange\", \"big\"]\n",
    "          }\n",
    "print(choices.values())\n",
    "for key,value in choices.items():\n",
    "    if 'green' in value and 'small' in value:\n",
    "        print(f\"{key} matches both small and green\")\n",
    "    else:\n",
    "        print(\"False\")"
   ]
  },
  {
   "cell_type": "code",
   "execution_count": 19,
   "id": "081871c9",
   "metadata": {},
   "outputs": [
    {
     "name": "stdout",
     "output_type": "stream",
     "text": [
      "3\n",
      "2\n",
      "1\n",
      "0\n"
     ]
    }
   ],
   "source": [
    "# Exercise 6.1\n",
    "values = [3, 2, 1, 0]\n",
    "\n",
    "for value in values:\n",
    "    print(value)"
   ]
  },
  {
   "cell_type": "code",
   "execution_count": 5,
   "id": "4dd15ca7",
   "metadata": {},
   "outputs": [
    {
     "name": "stdout",
     "output_type": "stream",
     "text": [
      "to low\n",
      "to low\n",
      "to low\n",
      "to low\n",
      "to low\n",
      "to low\n",
      "found it!\n"
     ]
    }
   ],
   "source": [
    "# Exercise 6.2\n",
    "guess_me = 7\n",
    "number = 1\n",
    "while number <= guess_me:\n",
    "    if number < guess_me:\n",
    "        print(\"to low\")\n",
    "        number += 1\n",
    "    elif number == guess_me:\n",
    "        print(\"found it!\")\n",
    "        break\n",
    "    else:\n",
    "        print(\"oops\")\n",
    "        break"
   ]
  },
  {
   "cell_type": "code",
   "execution_count": 4,
   "id": "10e906ed",
   "metadata": {},
   "outputs": [
    {
     "name": "stdout",
     "output_type": "stream",
     "text": [
      "to low\n",
      "to low\n",
      "to low\n",
      "to low\n",
      "to low\n",
      "found it!\n"
     ]
    }
   ],
   "source": [
    "# Exercise 6.3\n",
    "guess_me = 5\n",
    "for number in range(10):\n",
    "    if number < guess_me:\n",
    "        print(\"to low\")\n",
    "    elif number == guess_me:\n",
    "        print(\"found it!\")\n",
    "        break\n",
    "    else:\n",
    "        print(\"oops\")\n",
    "        break"
   ]
  },
  {
   "cell_type": "code",
   "execution_count": null,
   "id": "30fc1a2c",
   "metadata": {},
   "outputs": [],
   "source": []
  }
 ],
 "metadata": {
  "kernelspec": {
   "display_name": "Python 3 (ipykernel)",
   "language": "python",
   "name": "python3"
  },
  "language_info": {
   "codemirror_mode": {
    "name": "ipython",
    "version": 3
   },
   "file_extension": ".py",
   "mimetype": "text/x-python",
   "name": "python",
   "nbconvert_exporter": "python",
   "pygments_lexer": "ipython3",
   "version": "3.10.9"
  }
 },
 "nbformat": 4,
 "nbformat_minor": 5
}
